{
 "cells": [
  {
   "cell_type": "markdown",
   "metadata": {},
   "source": [
    "# Problem Set 3\n",
    "## Problem 1: Posterior Predictive Tests\n",
    "\n",
    "\n",
    "*For the non-hierarchical model and the control group half of the data set, choose a test statistic to show that the non-hierarchical model does not explain the control group data well. You should generate posterior data samples from this model and compare the test statistic of the real data to the distribution under your samples from the posterior. Note that the posterior distribution for this model is already provided in the notebook, so you don’t have to calculate it*\n",
    "\n",
    "*Submit your test statistic function, your code for generating samples from the posterior and computing the test statistic, and a histogram analogous to Gelman Figure 6.4. Also, calculate and provide your p-value. Since the test statistic is supposed to show a deficiency of the model the p-value should be less than 0.05 or greater than 0.95*\n"
   ]
  },
  {
   "cell_type": "markdown",
   "metadata": {},
   "source": [
    "### Model 1 Description (from pre-class work)\n",
    "\n",
    "\n",
    "|Study          | Treatment group |   Control group  |\n",
    "|---------------|-----------------|------------------|\n",
    "|Di Rienzo 2014 |     20 / 23     |        9 / 15    |\n",
    "|Galli 1994     |     10 / 16     |       11 / 18    |\n",
    "|Kaufman 1974   |     13 / 16     |        4 / 10    |\n",
    "|Qin 2014       |     35 / 45     |       21 / 39    |\n",
    "|Sanchez 2012   |     22 / 31     |       12 / 29    |\n",
    "|Silny 2006     |      7 / 10     |        0 / 10    |\n",
    "|**Totals**     |    107 / 141    |       57 / 121   |\n",
    "\n",
    "All studies have the same probability of success.\n",
    "\n",
    "* For each group (treatment and control), all 6 studies have the same fixed, but unknown, probability of success, $\\theta_t,\\theta_c\\in[0,1]$.\n",
    "* The data follow a binomial distribution in each study, conditioned on the probability of success — $\\theta_t$ for treatment or $\\theta_c$ for control.\n",
    "* The priors over $\\theta_t$ and $\\theta_c$ are uniform.\n",
    "\n",
    "These assumptions lead to the following model.\n",
    "\n",
    "* Likelihood: $\\prod_{i=1}^6 \\text{Binomial}(s_i\\,|\\,\\theta, n_i)$, where $s_i$ is the number of successful recoveries, $f_i$ is the number of failures (did not recover), and $n_i=s_i+f_i$ the number of patients.\n",
    "\n",
    "* Prior: $\\text{Beta}(\\theta\\,|\\,1,1)$ for both $\\theta_t$ and $\\theta_c$.\n",
    "\n",
    "* Posterior for treatment group: $\\text{Beta}(\\theta_t\\,|\\,108, 35)$.\n",
    "\n",
    "* Posterior for control group: $\\text{Beta}(\\theta_c\\,|\\,58, 65)$."
   ]
  },
  {
   "cell_type": "markdown",
   "metadata": {},
   "source": [
    "### Model 1 (Non-Hierarchical)"
   ]
  },
  {
   "cell_type": "code",
   "execution_count": 1,
   "metadata": {},
   "outputs": [],
   "source": [
    "import numpy as np\n",
    "import scipy.stats as sts\n",
    "import matplotlib.pyplot as plt"
   ]
  },
  {
   "cell_type": "code",
   "execution_count": 2,
   "metadata": {},
   "outputs": [],
   "source": [
    "# total patients per trial\n",
    "control_patients = np.array([15, 18, 10, 39, 29, 10])\n",
    "\n",
    "# total improved per trial\n",
    "control_improved = np.array([9, 11, 4, 21, 12, 0])\n",
    "\n",
    "# total not improved per trial\n",
    "control_not_improved = control_patients - control_improved\n",
    "\n",
    "# percentage improved per trial\n",
    "control_improved_p = control_improved / control_patients"
   ]
  },
  {
   "cell_type": "code",
   "execution_count": 57,
   "metadata": {},
   "outputs": [],
   "source": [
    "# given prior hyperparameters\n",
    "alpha_prior = 1\n",
    "beta_prior = 1\n",
    "\n",
    "# compute posterior hyperparameters for the treatment group\n",
    "alpha_post = alpha_prior + sum(control_improved)\n",
    "beta_post = beta_prior + sum(control_not_improved)\n",
    "posterior_control = sts.beta(a=alpha_post, b=beta_post)"
   ]
  },
  {
   "cell_type": "code",
   "execution_count": 74,
   "metadata": {},
   "outputs": [
    {
     "data": {
      "image/png": "[encoded data removed]",
      "text/plain": [
       "<Figure size 576x432 with 1 Axes>"
      ]
     },
     "metadata": {
      "needs_background": "light"
     },
     "output_type": "display_data"
    },
    {
     "name": "stdout",
     "output_type": "stream",
     "text": [
      "Expected Probability of Patient Improvement (p): 0.472\n",
      "95% Confidence Interval Over p: [0.384, 0.560]\n"
     ]
    }
   ],
   "source": [
    "# plot the posterior\n",
    "plt.figure(figsize=(8,6))\n",
    "\n",
    "plot_hist = posterior_control.rvs(size=10000)\n",
    "plt.hist(plot_hist, bins=20, density=True, color='thistle')\n",
    "\n",
    "plt.title('Beta Posterior Over p')\n",
    "plt.xlabel('p')\n",
    "plt.ylabel('Probability Density')\n",
    "plt.xlim(0, 1)\n",
    "plt.show()\n",
    "\n",
    "# describe posterior\n",
    "print(\n",
    "    'Expected Probability of Patient Improvement (p): %.3f' %\n",
    "    (posterior_control.mean()))\n",
    "print(\n",
    "    '95%% Confidence Interval Over p: [%.3f, %.3f]' %\n",
    "    (posterior_control.interval(0.95)))"
   ]
  },
  {
   "cell_type": "markdown",
   "metadata": {},
   "source": [
    "### Model Checking"
   ]
  },
  {
   "cell_type": "code",
   "execution_count": 76,
   "metadata": {},
   "outputs": [],
   "source": [
    "def posterior_control(alpha_prior, beta_prior, size=1):\n",
    "    '''\n",
    "    Generate N samples of x from the beta distribution.\n",
    "    '''\n",
    "    \n",
    "    alpha_post = alpha_prior + sum(control_improved_p)\n",
    "    beta_post = beta_prior + sum(control_improved_p)   \n",
    "    \n",
    "    # sample x from beta distribution\n",
    "    x = sts.beta.rvs(a=alpha_post, b=beta_post, size=size)\n",
    "    \n",
    "    return x"
   ]
  },
  {
   "cell_type": "code",
   "execution_count": 77,
   "metadata": {},
   "outputs": [
    {
     "name": "stdout",
     "output_type": "stream",
     "text": [
      "Total Replicated Data: 10000\n",
      "First Sample: [0.5333333333333333, 0.5, 0.3, 0.41025641025641024, 0.5172413793103449, 0.7]\n"
     ]
    }
   ],
   "source": [
    "# generate and iterate over samples from the posterior distribution\n",
    "N = 10000\n",
    "\n",
    "replicated_data = []\n",
    "\n",
    "# generate N samples fom posterior distribution\n",
    "for x in posterior_control(1, 1, size=N):\n",
    "    \n",
    "    trial_data = []\n",
    "    \n",
    "    # generate improved patients per trial\n",
    "    for i in range(len(control_patients)):\n",
    "        \n",
    "        # binomial distribution for improved patients\n",
    "        improved = sts.binom.rvs(p = x, \n",
    "                                 n = control_patients[i])\n",
    "        \n",
    "        # calculate probability of improvement (p)\n",
    "        trial_p = improved / control_patients[i]\n",
    "        \n",
    "        trial_data.append(trial_p)\n",
    "                \n",
    "    replicated_data.append(trial_data)\n",
    "\n",
    "print(f'Total Replicated Data: {len(replicated_data)}')\n",
    "print(f'First Sample: {replicated_data[0]}')"
   ]
  },
  {
   "cell_type": "code",
   "execution_count": 79,
   "metadata": {},
   "outputs": [
    {
     "data": {
      "image/png": "[encoded data removed]",
      "text/plain": [
       "<Figure size 576x432 with 1 Axes>"
      ]
     },
     "metadata": {
      "needs_background": "light"
     },
     "output_type": "display_data"
    },
    {
     "name": "stdout",
     "output_type": "stream",
     "text": [
      "Replicated Average Mean: 0.5\n",
      "Real Mean: 0.427\n",
      "P-value: 0.6417\n"
     ]
    }
   ],
   "source": [
    "# compute real mean\n",
    "real_mean = np.mean(control_improved_p)\n",
    "\n",
    "# compute replicated data means\n",
    "replicated_means = []\n",
    "for i in replicated_data:\n",
    "    replicated_mean = np.mean(i)\n",
    "    replicated_means.append(replicated_mean)\n",
    "\n",
    "    \n",
    "plt.figure(figsize=(8, 6))\n",
    "plt.hist(replicated_means, bins=20, alpha=0.5, \n",
    "         density=True, color='olivedrab')\n",
    "plt.axvline(real_mean, label='Real Mean')\n",
    "\n",
    "plt.title('Test Mean Distribution on Replicated Data. P-value: %.3f' % (\n",
    "    np.mean(replicated_means > real_mean)))\n",
    "plt.xlabel('Test Mean')\n",
    "plt.ylabel('Distribution')\n",
    "\n",
    "plt.legend()\n",
    "plt.show()\n",
    "\n",
    "# describe results\n",
    "print(f'Replicated Average Mean: {np.round(np.mean(replicated_means),3)}')\n",
    "print(f'Real Mean: {np.round(real_mean,3)}')\n",
    "print(f'P-value: {np.mean(replicated_means > real_mean)}')"
   ]
  },
  {
   "cell_type": "code",
   "execution_count": 80,
   "metadata": {},
   "outputs": [
    {
     "data": {
      "image/png": "[encoded data removed]",
      "text/plain": [
       "<Figure size 576x432 with 1 Axes>"
      ]
     },
     "metadata": {
      "needs_background": "light"
     },
     "output_type": "display_data"
    },
    {
     "name": "stdout",
     "output_type": "stream",
     "text": [
      "Replicated Average Standard Deviation: 0.183\n",
      "Real Standard Deviation: 0.208\n",
      "P-value: 0.9954\n"
     ]
    }
   ],
   "source": [
    "# compute real standard deviation\n",
    "real_std = np.std(control_improved_p)\n",
    "\n",
    "# compute replicated standard deviations\n",
    "replicated_stds = []\n",
    "for i in replicated_data:\n",
    "    replicated_std = np.std(i)\n",
    "    replicated_stds.append(replicated_std)\n",
    "\n",
    "    \n",
    "plt.figure(figsize=(8, 6))\n",
    "plt.hist(replicated_stds, bins=20, alpha=0.5, \n",
    "         density=True, color='lightcoral')\n",
    "plt.axvline(real_std, label='Real Standard Deviation Mean')\n",
    "\n",
    "plt.title('Test Standard Deviation Distribution on Replicated Data. P-value: %.3f' % (\n",
    "    np.mean(replicated_stds < real_std)))\n",
    "plt.xlabel('Test Standard Deviation')\n",
    "plt.ylabel('Distribution')\n",
    "\n",
    "plt.legend()\n",
    "plt.show()\n",
    "\n",
    "# describe results\n",
    "print(f'Replicated Average Standard Deviation: {np.round(np.std(replicated_means),3)}')\n",
    "print(f'Real Standard Deviation: {np.round(real_std,3)}')\n",
    "print(f'P-value: {np.mean(replicated_stds < real_std)}')"
   ]
  },
  {
   "cell_type": "markdown",
   "metadata": {},
   "source": [
    "The Bayesian P-value for the standard deviation of the replicated data sets compared to the standard deviation of the real control data set for the probability of patients improved per trial is greater than 0.95. Therefore the non-hierarchical model does not explain the control group data well since P-values greater than 0.95 are considered unusual. The model should be altered so that it represents the real data with more accuracy."
   ]
  },
  {
   "cell_type": "code",
   "execution_count": null,
   "metadata": {},
   "outputs": [],
   "source": []
  }
 ],
 "metadata": {
  "kernelspec": {
   "display_name": "Python 3",
   "language": "python",
   "name": "python3"
  },
  "language_info": {
   "codemirror_mode": {
    "name": "ipython",
    "version": 3
   },
   "file_extension": ".py",
   "mimetype": "text/x-python",
   "name": "python",
   "nbconvert_exporter": "python",
   "pygments_lexer": "ipython3",
   "version": "3.7.6"
  }
 },
 "nbformat": 4,
 "nbformat_minor": 1
}
